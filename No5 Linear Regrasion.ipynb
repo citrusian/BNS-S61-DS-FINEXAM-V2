{
 "cells": [
  {
   "cell_type": "code",
   "execution_count": 5,
   "id": "4c593c1d",
   "metadata": {
    "ExecuteTime": {
     "end_time": "2023-08-15T21:35:49.946224200Z",
     "start_time": "2023-08-15T21:35:49.928223700Z"
    }
   },
   "outputs": [],
   "source": [
    "import pandas as pd\n",
    "import numpy as np\n",
    "from typing import List, Tuple\n",
    "import math\n",
    "\n",
    "\n"
   ]
  },
  {
   "cell_type": "code",
   "execution_count": 6,
   "id": "956df587",
   "metadata": {
    "ExecuteTime": {
     "end_time": "2023-08-15T21:35:50.311402400Z",
     "start_time": "2023-08-15T21:35:50.288401400Z"
    }
   },
   "outputs": [],
   "source": [
    "\n",
    "Vector = List[float]\n",
    "def standard_deviation(xs: List[float]) -> float:\n",
    "  \"\"\"The standard deviation is the square root of the variance\"\"\"\n",
    "  return math.sqrt(variance(xs))\n",
    "\n",
    "def dot(v: Vector, w: Vector) -> float:\n",
    "  \"\"\"Computes v_1 * w_1 + ... + v_n * w_n\"\"\"\n",
    "  assert len(v) == len(w), \"vectors must be same length\"\n",
    "\n",
    "  return sum(v_i * w_i for v_i, w_i in zip(v, w))\n",
    "\n",
    "def covariance(xs: List[float], ys: List[float]) -> float:\n",
    "  assert len(xs) == len(ys), \"xs and ys must have same number of elements\"\n",
    "\n",
    "  return dot(de_mean(xs), de_mean(ys)) / (len(xs) - 1)\n",
    "\n",
    "def correlation(xs: List[float], ys: List[float]) -> float:\n",
    "  \"\"\"Measures how much xs and ys vary in tandem about their means\"\"\"\n",
    "  stdev_x = standard_deviation(xs)\n",
    "  stdev_y = standard_deviation(ys)\n",
    "  if stdev_x > 0 and stdev_y > 0:\n",
    "    return covariance(xs, ys) / stdev_x / stdev_y\n",
    "  else:\n",
    "    return 0    # if no variation, correlation is zero\n",
    "\n",
    "\n",
    "def predict(alpha: float, beta: float, x_i: float) -> float:\n",
    "  return beta * x_i + alpha\n",
    "\n",
    "def error(alpha: float, beta: float, x_i: float, y_i: float) -> float:\n",
    "  \"\"\"\n",
    "  The error from predicting beta * x_i + alpha\n",
    "  when the actual value is y_i\n",
    "  \"\"\"\n",
    "  return predict(alpha, beta, x_i) - y_i\n",
    "\n",
    "def mean(xs: List[float]) -> float:\n",
    "  return sum(xs) / len(xs)\n",
    "\n",
    "def de_mean(xs: List[float]) -> List[float]:\n",
    "  \"\"\"Translate xs by subtracting its mean (so the result has mean 0)\"\"\"\n",
    "  x_bar = mean(xs)\n",
    "  return [x - x_bar for x in xs]\n",
    "\n",
    "def sum_of_sqerrors(alpha: float, beta: float, x: Vector, y: Vector) -> float:\n",
    "  return sum(error(alpha, beta, x_i, y_i) ** 2\n",
    "             for x_i, y_i in zip(x, y))\n",
    "\n",
    "def sum_of_squares(v: Vector) -> float:\n",
    "  \"\"\"Returns v_1 * v_1 + ... + v_n * v_n\"\"\"\n",
    "  return dot(v, v)\n",
    "\n",
    "def variance(xs: List[float]) -> float:\n",
    "  \"\"\"Almost the average squared deviation from the mean\"\"\"\n",
    "  assert len(xs) >= 2, \"variance requires at least two elements\"\n",
    "\n",
    "  n = len(xs)\n",
    "  deviations = de_mean(xs)\n",
    "  return sum_of_squares(deviations) / (n - 1)"
   ]
  },
  {
   "cell_type": "code",
   "execution_count": 7,
   "id": "fa3fcb2c",
   "metadata": {
    "ExecuteTime": {
     "end_time": "2023-08-15T21:35:50.896785400Z",
     "start_time": "2023-08-15T21:35:50.861050300Z"
    }
   },
   "outputs": [],
   "source": [
    "def least_squares_fit(x: Vector, y: Vector) -> Tuple[float, float]:\n",
    "  \"\"\"\n",
    "  Given two vectors x and y,\n",
    "  find the least-squares values of alpha and beta\n",
    "  \"\"\"\n",
    "  beta = correlation(x, y) * standard_deviation(y) / standard_deviation(x)\n",
    "  alpha = mean(y) - beta * mean(x)\n",
    "  return alpha, beta\n"
   ]
  },
  {
   "cell_type": "code",
   "execution_count": 8,
   "id": "20c4485d",
   "metadata": {
    "ExecuteTime": {
     "end_time": "2023-08-15T21:35:51.518781800Z",
     "start_time": "2023-08-15T21:35:51.492783800Z"
    }
   },
   "outputs": [],
   "source": [
    "x = [i for i in range(-100, 110, 10)]\n",
    "y = [3 * i - 5 for i in x]"
   ]
  },
  {
   "cell_type": "code",
   "execution_count": 8,
   "id": "cccdcb3e",
   "metadata": {
    "ExecuteTime": {
     "end_time": "2023-08-15T21:35:53.365662100Z",
     "start_time": "2023-08-15T21:35:53.351662200Z"
    }
   },
   "outputs": [],
   "source": []
  },
  {
   "cell_type": "code",
   "execution_count": 9,
   "id": "2c189e83",
   "metadata": {
    "ExecuteTime": {
     "end_time": "2023-08-15T21:35:53.874416500Z",
     "start_time": "2023-08-15T21:35:53.858415Z"
    }
   },
   "outputs": [],
   "source": [
    "# num_friends = [100.0,49,41,40,25,21,21,19,19,18,18,16,15,15,15,15,14,14,13,13,13,13,12,12,11,10,10,10,10,10,10,10,10,10,10,10,10,10,10,10,9,9,9,9,9,9,9,9,9,9,9,9,9,9,9,9,9,9,8,8,8,8,8,8,8,8,8,8,8,8,8,7,7,7,7,7,7,7,7,7,7,7,7,7,7,7,6,6,6,6,6,6,6,6,6,6,6,6,6,6,6,6,6,6,6,6,6,6,5,5,5,5,5,5,5,5,5,5,5,5,5,5,5,5,5,4,4,4,4,4,4,4,4,4,4,4,4,4,4,4,4,4,4,4,4,3,3,3,3,3,3,3,3,3,3,3,3,3,3,3,3,3,3,3,3,2,2,2,2,2,2,2,2,2,2,2,2,2,2,2,2,2,1,1,1,1,1,1,1,1,1,1,1,1,1,1,1,1,1,1,1,1,1,1]\n",
    "# daily_minutes = [1,68.77,51.25,52.08,38.36,44.54,57.13,51.4,41.42,31.22,34.76,54.01,38.79,47.59,49.1,27.66,41.03,36.73,48.65,28.12,46.62,35.57,32.98,35,26.07,23.77,39.73,40.57,31.65,31.21,36.32,20.45,21.93,26.02,27.34,23.49,46.94,30.5,33.8,24.23,21.4,27.94,32.24,40.57,25.07,19.42,22.39,18.42,46.96,23.72,26.41,26.97,36.76,40.32,35.02,29.47,30.2,31,38.11,38.18,36.31,21.03,30.86,36.07,28.66,29.08,37.28,15.28,24.17,22.31,30.17,25.53,19.85,35.37,44.6,17.23,13.47,26.33,35.02,32.09,24.81,19.33,28.77,24.26,31.98,25.73,24.86,16.28,34.51,15.23,39.72,40.8,26.06,35.76,34.76,16.13,44.04,18.03,19.65,32.62,35.59,39.43,14.18,35.24,40.13,41.82,35.45,36.07,43.67,24.61,20.9,21.9,18.79,27.61,27.21,26.61,29.77,20.59,27.53,13.82,33.2,25,33.1,36.65,18.63,14.87,22.2,36.81,25.53,24.62,26.25,18.21,28.08,19.42,29.79,32.8,35.99,28.32,27.79,35.88,29.06,36.28,14.1,36.63,37.49,26.9,18.58,38.48,24.48,18.95,33.55,14.24,29.04,32.51,25.63,22.22,19,32.73,15.16,13.9,27.2,32.01,29.27,33,13.74,20.42,27.32,18.23,35.35,28.48,9.08,24.62,20.12,35.26,19.92,31.02,16.49,12.16,30.7,31.22,34.65,13.13,27.51,33.2,31.57,14.1,33.42,17.44,10.12,24.42,9.82,23.39,30.93,15.03,21.67,31.09,33.29,22.61,26.89,23.48,8.38,27.81,32.35,23.84]\n",
    "# outlier = num_friends.index(100)    # index of outlier\n",
    "#\n",
    "# num_friends_good = [x\n",
    "#                     for i, x in enumerate(num_friends)\n",
    "#                     if i != outlier]\n",
    "#\n",
    "# daily_minutes_good = [x\n",
    "#                       for i, x in enumerate(daily_minutes)\n",
    "#                       if i != outlier]"
   ]
  },
  {
   "cell_type": "code",
   "execution_count": 10,
   "id": "c5ac22bc",
   "metadata": {
    "ExecuteTime": {
     "end_time": "2023-08-15T21:35:54.545722100Z",
     "start_time": "2023-08-15T21:35:54.527723200Z"
    }
   },
   "outputs": [],
   "source": [
    "# alpha, beta = least_squares_fit(num_friends_good, daily_minutes_good)\n"
   ]
  },
  {
   "cell_type": "code",
   "execution_count": 10,
   "id": "afef7402",
   "metadata": {
    "ExecuteTime": {
     "end_time": "2023-08-15T21:35:54.901037100Z",
     "start_time": "2023-08-15T21:35:54.883037800Z"
    }
   },
   "outputs": [],
   "source": []
  },
  {
   "cell_type": "code",
   "execution_count": 11,
   "id": "e2eb3b1b",
   "metadata": {
    "ExecuteTime": {
     "end_time": "2023-08-15T21:35:55.447561Z",
     "start_time": "2023-08-15T21:35:55.399559600Z"
    }
   },
   "outputs": [],
   "source": [
    "def total_sum_of_squares(y: Vector) -> float:\n",
    "  \"\"\"the total squared variation of y_i's from their mean\"\"\"\n",
    "  return sum(v ** 2 for v in de_mean(y))\n",
    "\n",
    "def r_squared(alpha: float, beta: float, x: Vector, y: Vector) -> float:\n",
    "  \"\"\"\n",
    "  the fraction of variation in y captured by the model, which equals\n",
    "  1 - the fraction of variation in y not captured by the model\n",
    "  \"\"\"\n",
    "  return 1.0 - (sum_of_sqerrors(alpha, beta, x, y) /\n",
    "                total_sum_of_squares(y))"
   ]
  },
  {
   "cell_type": "code",
   "execution_count": 12,
   "id": "90fc5593",
   "metadata": {
    "ExecuteTime": {
     "end_time": "2023-08-15T21:35:56.302463500Z",
     "start_time": "2023-08-15T21:35:56.237462100Z"
    }
   },
   "outputs": [],
   "source": [
    "# change the data used\n",
    "\n",
    "# import JSON dataset using panda\n",
    "dataset = pd.read_json('tenant_performance.json')\n",
    "avg_visit_duration = dataset['avg_visit_duration']\n",
    "revenue = dataset['revenue']\n",
    "\n",
    "alpha, beta = least_squares_fit(avg_visit_duration, revenue)"
   ]
  },
  {
   "cell_type": "code",
   "execution_count": 13,
   "id": "9189bd81",
   "metadata": {
    "ExecuteTime": {
     "end_time": "2023-08-15T21:35:57.494539300Z",
     "start_time": "2023-08-15T21:35:57.477537600Z"
    }
   },
   "outputs": [
    {
     "data": {
      "text/plain": "-45.561551599912406"
     },
     "execution_count": 13,
     "metadata": {},
     "output_type": "execute_result"
    }
   ],
   "source": [
    "alpha"
   ]
  },
  {
   "cell_type": "code",
   "execution_count": 14,
   "id": "1ca1c5b5",
   "metadata": {
    "ExecuteTime": {
     "end_time": "2023-08-15T21:35:57.989986500Z",
     "start_time": "2023-08-15T21:35:57.960983700Z"
    }
   },
   "outputs": [
    {
     "data": {
      "text/plain": "3.8157701566146787"
     },
     "execution_count": 14,
     "metadata": {},
     "output_type": "execute_result"
    }
   ],
   "source": [
    "beta"
   ]
  },
  {
   "cell_type": "code",
   "execution_count": 15,
   "id": "57153459",
   "metadata": {
    "ExecuteTime": {
     "end_time": "2023-08-15T21:35:58.986904Z",
     "start_time": "2023-08-15T21:35:58.983901500Z"
    }
   },
   "outputs": [],
   "source": [
    "def predict(alpha: float, beta: float, x_i: float) -> float:\n",
    "  return beta * x_i + alpha"
   ]
  },
  {
   "cell_type": "code",
   "execution_count": 16,
   "id": "092f41f1",
   "metadata": {
    "ExecuteTime": {
     "end_time": "2023-08-15T21:35:59.831841500Z",
     "start_time": "2023-08-15T21:35:59.817841500Z"
    }
   },
   "outputs": [],
   "source": [
    "# predict(alpha, beta, 10)"
   ]
  },
  {
   "cell_type": "code",
   "execution_count": 17,
   "id": "06f95df3",
   "metadata": {
    "ExecuteTime": {
     "end_time": "2023-08-15T21:36:00.442314300Z",
     "start_time": "2023-08-15T21:36:00.418312900Z"
    }
   },
   "outputs": [
    {
     "name": "stdout",
     "output_type": "stream",
     "text": [
      "predict:\n",
      "-7.403850033765622\n"
     ]
    }
   ],
   "source": [
    "# Predict the revenue with avg_visit_duration = 10\n",
    "print(\"predict:\")\n",
    "print(predict(alpha, beta, 10))"
   ]
  },
  {
   "cell_type": "code",
   "execution_count": 18,
   "id": "7b3197fb",
   "metadata": {
    "ExecuteTime": {
     "end_time": "2023-08-15T21:36:01.152283800Z",
     "start_time": "2023-08-15T21:36:01.132283900Z"
    }
   },
   "outputs": [
    {
     "name": "stdout",
     "output_type": "stream",
     "text": [
      "predict:\n",
      "68.91155309852796\n"
     ]
    }
   ],
   "source": [
    "# Predict the revenue with avg_visit_duration = 30\n",
    "print(\"predict:\")\n",
    "print(predict(alpha, beta, 30))"
   ]
  },
  {
   "cell_type": "code",
   "execution_count": 19,
   "id": "4b1b0ab3",
   "metadata": {
    "ExecuteTime": {
     "end_time": "2023-08-15T21:36:02.380866Z",
     "start_time": "2023-08-15T21:36:02.365865900Z"
    }
   },
   "outputs": [],
   "source": [
    "from numpy import subtract\n",
    "\n",
    "\n",
    "def scalar_multiply(c: float, v: Vector) -> Vector:\n",
    "  \"\"\"Multiplies every element by c\"\"\"\n",
    "  return [c * v_i for v_i in v]\n",
    "\n",
    "def add(v: Vector, w: Vector) -> Vector:\n",
    "  \"\"\"Adds corresponding elements\"\"\"\n",
    "  assert len(v) == len(w), \"vectors must be the same length\"\n",
    "\n",
    "  return [v_i + w_i for v_i, w_i in zip(v, w)]\n",
    "\n",
    "def gradient_step(v: Vector, gradient: Vector, step_size: float) -> Vector:\n",
    "  \"\"\"Moves `step_size` in the `gradient` direction from `v`\"\"\"\n",
    "  assert len(v) == len(gradient)\n",
    "  step = scalar_multiply(step_size, gradient)\n",
    "  return add(v, step)\n",
    "\n",
    "def sum_of_squares(v: Vector) -> float:\n",
    "  \"\"\"Returns v_1 * v_1 + ... + v_n * v_n\"\"\"\n",
    "  return dot(v, v)\n",
    "\n",
    "assert sum_of_squares([1, 2, 3]) == 14  # 1 * 1 + 2 * 2 + 3 * 3\n",
    "\n",
    "import math\n",
    "\n",
    "def magnitude(v: Vector) -> float:\n",
    "  \"\"\"Returns the magnitude (or length) of v\"\"\"\n",
    "  return math.sqrt(sum_of_squares(v))   # math.sqrt is square root function\n",
    "\n",
    "assert magnitude([3, 4]) == 5\n",
    "\n",
    "def squared_distance(v: Vector, w: Vector) -> float:\n",
    "  \"\"\"Computes (v_1 - w_1) ** 2 + ... + (v_n - w_n) ** 2\"\"\"\n",
    "  return sum_of_squares(subtract(v, w))"
   ]
  },
  {
   "cell_type": "code",
   "execution_count": 31,
   "id": "a80b4927",
   "metadata": {
    "ExecuteTime": {
     "end_time": "2023-08-15T21:42:51.131855Z",
     "start_time": "2023-08-15T21:40:05.547079Z"
    }
   },
   "outputs": [
    {
     "name": "stderr",
     "output_type": "stream",
     "text": [
      "loss: 102106918.815: 100%|██████████| 20000/20000 [02:45<00:00, 120.79it/s]\n"
     ]
    }
   ],
   "source": [
    "import random\n",
    "import tqdm\n",
    "\n",
    "num_epochs = 20000\n",
    "learning_rate = 0.0000001\n",
    "\n",
    "random.seed(0)\n",
    "\n",
    "guess = [random.random(), random.random()]  # choose random value to start\n",
    "\n",
    "\n",
    "with tqdm.trange(num_epochs) as t:\n",
    "  for _ in t:\n",
    "    alpha, beta = guess\n",
    "\n",
    "# for x_i, y_i in zip(num_friends_good,\n",
    "#                     daily_minutes_good))\n",
    "# for x_i, y_i in zip(avg_visit_duration,\n",
    "#                     revenue))\n",
    "    # Partial derivative of loss with respect to alpha\n",
    "    grad_a = sum(2 * error(alpha, beta, x_i, y_i)\n",
    "                 for x_i, y_i in zip(avg_visit_duration,\n",
    "                                     revenue))\n",
    "\n",
    "    # Partial derivative of loss with respect to beta\n",
    "    grad_b = sum(2 * error(alpha, beta, x_i, y_i) * x_i\n",
    "                 for x_i, y_i in zip(avg_visit_duration,\n",
    "                                     revenue))\n",
    "\n",
    "    # Compute loss to stick in the tqdm description\n",
    "    loss = sum_of_sqerrors(alpha, beta,\n",
    "                           avg_visit_duration, revenue)\n",
    "    t.set_description(f\"loss: {loss:.3f}\")\n",
    "\n",
    "    # Finally, update the guess\n",
    "    guess = gradient_step(guess, [grad_a, grad_b], -learning_rate)"
   ]
  },
  {
   "cell_type": "code",
   "execution_count": 32,
   "id": "a4589e34",
   "metadata": {
    "ExecuteTime": {
     "end_time": "2023-08-15T21:46:03.370435200Z",
     "start_time": "2023-08-15T21:46:03.347433300Z"
    }
   },
   "outputs": [
    {
     "data": {
      "text/plain": "-45.56154997830489"
     },
     "execution_count": 32,
     "metadata": {},
     "output_type": "execute_result"
    }
   ],
   "source": [
    "alpha"
   ]
  },
  {
   "cell_type": "code",
   "execution_count": 33,
   "id": "2810fbaa",
   "metadata": {
    "ExecuteTime": {
     "end_time": "2023-08-15T21:46:03.993848400Z",
     "start_time": "2023-08-15T21:46:03.965845200Z"
    }
   },
   "outputs": [
    {
     "data": {
      "text/plain": "3.8157700795538583"
     },
     "execution_count": 33,
     "metadata": {},
     "output_type": "execute_result"
    }
   ],
   "source": [
    "beta"
   ]
  },
  {
   "cell_type": "code",
   "execution_count": 34,
   "id": "8f6929e6",
   "metadata": {
    "ExecuteTime": {
     "end_time": "2023-08-15T21:46:04.798511900Z",
     "start_time": "2023-08-15T21:46:04.785516Z"
    }
   },
   "outputs": [
    {
     "data": {
      "text/plain": "[-45.561549979696544, 3.8157700796199916]"
     },
     "execution_count": 34,
     "metadata": {},
     "output_type": "execute_result"
    }
   ],
   "source": [
    "guess"
   ]
  },
  {
   "cell_type": "code",
   "execution_count": null,
   "id": "18e4fffd",
   "metadata": {},
   "outputs": [],
   "source": []
  },
  {
   "cell_type": "code",
   "execution_count": null,
   "id": "4987baaa",
   "metadata": {},
   "outputs": [],
   "source": []
  },
  {
   "cell_type": "code",
   "execution_count": null,
   "id": "141fc50d",
   "metadata": {},
   "outputs": [],
   "source": []
  },
  {
   "cell_type": "code",
   "execution_count": 2,
   "id": "71ef1e76",
   "metadata": {
    "ExecuteTime": {
     "end_time": "2023-08-15T21:50:55.766422Z",
     "start_time": "2023-08-15T21:50:53.257423900Z"
    }
   },
   "outputs": [],
   "source": [
    "# Tensorflow\n",
    "import tensorflow as tf"
   ]
  },
  {
   "cell_type": "code",
   "execution_count": 41,
   "id": "f4cb90ad",
   "metadata": {
    "ExecuteTime": {
     "end_time": "2023-08-15T13:14:42.451282500Z",
     "start_time": "2023-08-15T13:14:29.432390500Z"
    }
   },
   "outputs": [
    {
     "name": "stderr",
     "output_type": "stream",
     "text": [
      "loss: 113224728.000:   0%|          | 5/10000 [00:20<11:16:56,  4.06s/it]\n"
     ]
    },
    {
     "ename": "KeyboardInterrupt",
     "evalue": "",
     "output_type": "error",
     "traceback": [
      "\u001B[1;31m---------------------------------------------------------------------------\u001B[0m",
      "\u001B[1;31mKeyboardInterrupt\u001B[0m                         Traceback (most recent call last)",
      "\u001B[1;32m~\\AppData\\Local\\Temp\\ipykernel_19420\\3216968115.py\u001B[0m in \u001B[0;36m?\u001B[1;34m()\u001B[0m\n\u001B[0;32m     17\u001B[0m                  for x_i, y_i in zip(avg_visit_duration,\n\u001B[0;32m     18\u001B[0m                                      revenue))\n\u001B[0;32m     19\u001B[0m \u001B[1;33m\u001B[0m\u001B[0m\n\u001B[0;32m     20\u001B[0m     \u001B[1;31m# Partial derivative of loss with respect to beta\u001B[0m\u001B[1;33m\u001B[0m\u001B[1;33m\u001B[0m\u001B[0m\n\u001B[1;32m---> 21\u001B[1;33m     grad_b = sum(2 * error(alpha, beta, x_i, y_i) * x_i\n\u001B[0m\u001B[0;32m     22\u001B[0m                  for x_i, y_i in zip(avg_visit_duration,\n\u001B[0;32m     23\u001B[0m                                      revenue))\n\u001B[0;32m     24\u001B[0m \u001B[1;33m\u001B[0m\u001B[0m\n",
      "\u001B[1;32m~\\AppData\\Local\\Temp\\ipykernel_19420\\3216968115.py\u001B[0m in \u001B[0;36m?\u001B[1;34m(.0)\u001B[0m\n\u001B[1;32m---> 21\u001B[1;33m \u001B[1;32mimport\u001B[0m \u001B[0mrandom\u001B[0m\u001B[1;33m\u001B[0m\u001B[1;33m\u001B[0m\u001B[0m\n\u001B[0m",
      "\u001B[1;32m~\\AppData\\Local\\Temp\\ipykernel_19420\\3027874679.py\u001B[0m in \u001B[0;36m?\u001B[1;34m(alpha, beta, x_i, y_i)\u001B[0m\n\u001B[0;32m     31\u001B[0m   \"\"\"\n\u001B[0;32m     32\u001B[0m   \u001B[0mThe\u001B[0m \u001B[0merror\u001B[0m \u001B[1;32mfrom\u001B[0m \u001B[0mpredicting\u001B[0m \u001B[0mbeta\u001B[0m \u001B[1;33m*\u001B[0m \u001B[0mx_i\u001B[0m \u001B[1;33m+\u001B[0m \u001B[0malpha\u001B[0m\u001B[1;33m\u001B[0m\u001B[1;33m\u001B[0m\u001B[0m\n\u001B[0;32m     33\u001B[0m   \u001B[0mwhen\u001B[0m \u001B[0mthe\u001B[0m \u001B[0mactual\u001B[0m \u001B[0mvalue\u001B[0m \u001B[1;32mis\u001B[0m \u001B[0my_i\u001B[0m\u001B[1;33m\u001B[0m\u001B[1;33m\u001B[0m\u001B[0m\n\u001B[0;32m     34\u001B[0m   \"\"\"\n\u001B[1;32m---> 35\u001B[1;33m   \u001B[1;32mreturn\u001B[0m \u001B[0mpredict\u001B[0m\u001B[1;33m(\u001B[0m\u001B[0malpha\u001B[0m\u001B[1;33m,\u001B[0m \u001B[0mbeta\u001B[0m\u001B[1;33m,\u001B[0m \u001B[0mx_i\u001B[0m\u001B[1;33m)\u001B[0m \u001B[1;33m-\u001B[0m \u001B[0my_i\u001B[0m\u001B[1;33m\u001B[0m\u001B[1;33m\u001B[0m\u001B[0m\n\u001B[0m",
      "\u001B[1;32mZ:\\Workshop\\Binus\\SEMESTER 6-1\\DSGithub\\datascience_course\\venv\\lib\\site-packages\\tensorflow\\python\\util\\traceback_utils.py\u001B[0m in \u001B[0;36m?\u001B[1;34m(*args, **kwargs)\u001B[0m\n\u001B[0;32m    151\u001B[0m     \u001B[1;32mexcept\u001B[0m \u001B[0mException\u001B[0m \u001B[1;32mas\u001B[0m \u001B[0me\u001B[0m\u001B[1;33m:\u001B[0m\u001B[1;33m\u001B[0m\u001B[1;33m\u001B[0m\u001B[0m\n\u001B[0;32m    152\u001B[0m       \u001B[0mfiltered_tb\u001B[0m \u001B[1;33m=\u001B[0m \u001B[0m_process_traceback_frames\u001B[0m\u001B[1;33m(\u001B[0m\u001B[0me\u001B[0m\u001B[1;33m.\u001B[0m\u001B[0m__traceback__\u001B[0m\u001B[1;33m)\u001B[0m\u001B[1;33m\u001B[0m\u001B[1;33m\u001B[0m\u001B[0m\n\u001B[0;32m    153\u001B[0m       \u001B[1;32mraise\u001B[0m \u001B[0me\u001B[0m\u001B[1;33m.\u001B[0m\u001B[0mwith_traceback\u001B[0m\u001B[1;33m(\u001B[0m\u001B[0mfiltered_tb\u001B[0m\u001B[1;33m)\u001B[0m \u001B[1;32mfrom\u001B[0m \u001B[1;32mNone\u001B[0m\u001B[1;33m\u001B[0m\u001B[1;33m\u001B[0m\u001B[0m\n\u001B[0;32m    154\u001B[0m     \u001B[1;32mfinally\u001B[0m\u001B[1;33m:\u001B[0m\u001B[1;33m\u001B[0m\u001B[1;33m\u001B[0m\u001B[0m\n\u001B[1;32m--> 155\u001B[1;33m       \u001B[1;32mdel\u001B[0m \u001B[0mfiltered_tb\u001B[0m\u001B[1;33m\u001B[0m\u001B[1;33m\u001B[0m\u001B[0m\n\u001B[0m",
      "\u001B[1;32mZ:\\Workshop\\Binus\\SEMESTER 6-1\\DSGithub\\datascience_course\\venv\\lib\\site-packages\\tensorflow\\python\\ops\\math_ops.py\u001B[0m in \u001B[0;36m?\u001B[1;34m(x, y)\u001B[0m\n\u001B[0;32m   1463\u001B[0m         \u001B[1;31m# TODO(b/178860388): Figure out why binary_op_wrapper and\u001B[0m\u001B[1;33m\u001B[0m\u001B[1;33m\u001B[0m\u001B[0m\n\u001B[0;32m   1464\u001B[0m         \u001B[1;31m#   r_binary_op_wrapper use different force_same_dtype values.\u001B[0m\u001B[1;33m\u001B[0m\u001B[1;33m\u001B[0m\u001B[0m\n\u001B[0;32m   1465\u001B[0m         \u001B[0mx\u001B[0m\u001B[1;33m,\u001B[0m \u001B[0my\u001B[0m \u001B[1;33m=\u001B[0m \u001B[0mmaybe_promote_tensors\u001B[0m\u001B[1;33m(\u001B[0m\u001B[0mx\u001B[0m\u001B[1;33m,\u001B[0m \u001B[0my\u001B[0m\u001B[1;33m)\u001B[0m\u001B[1;33m\u001B[0m\u001B[1;33m\u001B[0m\u001B[0m\n\u001B[0;32m   1466\u001B[0m         \u001B[1;32mreturn\u001B[0m \u001B[0mfunc\u001B[0m\u001B[1;33m(\u001B[0m\u001B[0mx\u001B[0m\u001B[1;33m,\u001B[0m \u001B[0my\u001B[0m\u001B[1;33m,\u001B[0m \u001B[0mname\u001B[0m\u001B[1;33m=\u001B[0m\u001B[0mname\u001B[0m\u001B[1;33m)\u001B[0m\u001B[1;33m\u001B[0m\u001B[1;33m\u001B[0m\u001B[0m\n\u001B[1;32m-> 1467\u001B[1;33m       \u001B[1;32mexcept\u001B[0m \u001B[1;33m(\u001B[0m\u001B[0mTypeError\u001B[0m\u001B[1;33m,\u001B[0m \u001B[0mValueError\u001B[0m\u001B[1;33m)\u001B[0m \u001B[1;32mas\u001B[0m \u001B[0me\u001B[0m\u001B[1;33m:\u001B[0m\u001B[1;33m\u001B[0m\u001B[1;33m\u001B[0m\u001B[0m\n\u001B[0m\u001B[0;32m   1468\u001B[0m         \u001B[1;31m# Even if dispatching the op failed, the RHS may be a tensor aware\u001B[0m\u001B[1;33m\u001B[0m\u001B[1;33m\u001B[0m\u001B[0m\n\u001B[0;32m   1469\u001B[0m         \u001B[1;31m# object that can implement the operator with knowledge of itself\u001B[0m\u001B[1;33m\u001B[0m\u001B[1;33m\u001B[0m\u001B[0m\n\u001B[0;32m   1470\u001B[0m         \u001B[1;31m# and the tensor.\u001B[0m\u001B[1;33m\u001B[0m\u001B[1;33m\u001B[0m\u001B[0m\n",
      "\u001B[1;32mZ:\\Workshop\\Binus\\SEMESTER 6-1\\DSGithub\\datascience_course\\venv\\lib\\site-packages\\tensorflow\\python\\util\\traceback_utils.py\u001B[0m in \u001B[0;36m?\u001B[1;34m(*args, **kwargs)\u001B[0m\n\u001B[0;32m    151\u001B[0m     \u001B[1;32mexcept\u001B[0m \u001B[0mException\u001B[0m \u001B[1;32mas\u001B[0m \u001B[0me\u001B[0m\u001B[1;33m:\u001B[0m\u001B[1;33m\u001B[0m\u001B[1;33m\u001B[0m\u001B[0m\n\u001B[0;32m    152\u001B[0m       \u001B[0mfiltered_tb\u001B[0m \u001B[1;33m=\u001B[0m \u001B[0m_process_traceback_frames\u001B[0m\u001B[1;33m(\u001B[0m\u001B[0me\u001B[0m\u001B[1;33m.\u001B[0m\u001B[0m__traceback__\u001B[0m\u001B[1;33m)\u001B[0m\u001B[1;33m\u001B[0m\u001B[1;33m\u001B[0m\u001B[0m\n\u001B[0;32m    153\u001B[0m       \u001B[1;32mraise\u001B[0m \u001B[0me\u001B[0m\u001B[1;33m.\u001B[0m\u001B[0mwith_traceback\u001B[0m\u001B[1;33m(\u001B[0m\u001B[0mfiltered_tb\u001B[0m\u001B[1;33m)\u001B[0m \u001B[1;32mfrom\u001B[0m \u001B[1;32mNone\u001B[0m\u001B[1;33m\u001B[0m\u001B[1;33m\u001B[0m\u001B[0m\n\u001B[0;32m    154\u001B[0m     \u001B[1;32mfinally\u001B[0m\u001B[1;33m:\u001B[0m\u001B[1;33m\u001B[0m\u001B[1;33m\u001B[0m\u001B[0m\n\u001B[1;32m--> 155\u001B[1;33m       \u001B[1;32mdel\u001B[0m \u001B[0mfiltered_tb\u001B[0m\u001B[1;33m\u001B[0m\u001B[1;33m\u001B[0m\u001B[0m\n\u001B[0m",
      "\u001B[1;32mZ:\\Workshop\\Binus\\SEMESTER 6-1\\DSGithub\\datascience_course\\venv\\lib\\site-packages\\tensorflow\\python\\util\\dispatch.py\u001B[0m in \u001B[0;36m?\u001B[1;34m(*args, **kwargs)\u001B[0m\n\u001B[0;32m   1173\u001B[0m \u001B[1;33m\u001B[0m\u001B[0m\n\u001B[0;32m   1174\u001B[0m       \u001B[1;31m# Fallback dispatch system (dispatch v1):\u001B[0m\u001B[1;33m\u001B[0m\u001B[1;33m\u001B[0m\u001B[0m\n\u001B[0;32m   1175\u001B[0m       \u001B[1;32mtry\u001B[0m\u001B[1;33m:\u001B[0m\u001B[1;33m\u001B[0m\u001B[1;33m\u001B[0m\u001B[0m\n\u001B[0;32m   1176\u001B[0m         \u001B[1;32mreturn\u001B[0m \u001B[0mdispatch_target\u001B[0m\u001B[1;33m(\u001B[0m\u001B[1;33m*\u001B[0m\u001B[0margs\u001B[0m\u001B[1;33m,\u001B[0m \u001B[1;33m**\u001B[0m\u001B[0mkwargs\u001B[0m\u001B[1;33m)\u001B[0m\u001B[1;33m\u001B[0m\u001B[1;33m\u001B[0m\u001B[0m\n\u001B[1;32m-> 1177\u001B[1;33m       \u001B[1;32mexcept\u001B[0m \u001B[1;33m(\u001B[0m\u001B[0mTypeError\u001B[0m\u001B[1;33m,\u001B[0m \u001B[0mValueError\u001B[0m\u001B[1;33m)\u001B[0m\u001B[1;33m:\u001B[0m\u001B[1;33m\u001B[0m\u001B[1;33m\u001B[0m\u001B[0m\n\u001B[0m\u001B[0;32m   1178\u001B[0m         \u001B[1;31m# Note: convert_to_eager_tensor currently raises a ValueError, not a\u001B[0m\u001B[1;33m\u001B[0m\u001B[1;33m\u001B[0m\u001B[0m\n\u001B[0;32m   1179\u001B[0m         \u001B[1;31m# TypeError, when given unexpected types.  So we need to catch both.\u001B[0m\u001B[1;33m\u001B[0m\u001B[1;33m\u001B[0m\u001B[0m\n\u001B[0;32m   1180\u001B[0m         \u001B[0mresult\u001B[0m \u001B[1;33m=\u001B[0m \u001B[0mdispatch\u001B[0m\u001B[1;33m(\u001B[0m\u001B[0mop_dispatch_handler\u001B[0m\u001B[1;33m,\u001B[0m \u001B[0margs\u001B[0m\u001B[1;33m,\u001B[0m \u001B[0mkwargs\u001B[0m\u001B[1;33m)\u001B[0m\u001B[1;33m\u001B[0m\u001B[1;33m\u001B[0m\u001B[0m\n",
      "\u001B[1;32mZ:\\Workshop\\Binus\\SEMESTER 6-1\\DSGithub\\datascience_course\\venv\\lib\\site-packages\\tensorflow\\python\\ops\\math_ops.py\u001B[0m in \u001B[0;36m?\u001B[1;34m(x, y, name)\u001B[0m\n\u001B[0;32m    545\u001B[0m \u001B[1;33m@\u001B[0m\u001B[0mtf_export\u001B[0m\u001B[1;33m(\u001B[0m\u001B[1;34m\"math.subtract\"\u001B[0m\u001B[1;33m,\u001B[0m \u001B[1;34m\"subtract\"\u001B[0m\u001B[1;33m)\u001B[0m\u001B[1;33m\u001B[0m\u001B[1;33m\u001B[0m\u001B[0m\n\u001B[0;32m    546\u001B[0m \u001B[1;33m@\u001B[0m\u001B[0mdispatch\u001B[0m\u001B[1;33m.\u001B[0m\u001B[0mregister_binary_elementwise_api\u001B[0m\u001B[1;33m\u001B[0m\u001B[1;33m\u001B[0m\u001B[0m\n\u001B[0;32m    547\u001B[0m \u001B[1;33m@\u001B[0m\u001B[0mdispatch\u001B[0m\u001B[1;33m.\u001B[0m\u001B[0madd_dispatch_support\u001B[0m\u001B[1;33m\u001B[0m\u001B[1;33m\u001B[0m\u001B[0m\n\u001B[0;32m    548\u001B[0m \u001B[1;32mdef\u001B[0m \u001B[0msubtract\u001B[0m\u001B[1;33m(\u001B[0m\u001B[0mx\u001B[0m\u001B[1;33m,\u001B[0m \u001B[0my\u001B[0m\u001B[1;33m,\u001B[0m \u001B[0mname\u001B[0m\u001B[1;33m=\u001B[0m\u001B[1;32mNone\u001B[0m\u001B[1;33m)\u001B[0m\u001B[1;33m:\u001B[0m\u001B[1;33m\u001B[0m\u001B[1;33m\u001B[0m\u001B[0m\n\u001B[1;32m--> 549\u001B[1;33m   \u001B[1;32mreturn\u001B[0m \u001B[0mgen_math_ops\u001B[0m\u001B[1;33m.\u001B[0m\u001B[0msub\u001B[0m\u001B[1;33m(\u001B[0m\u001B[0mx\u001B[0m\u001B[1;33m,\u001B[0m \u001B[0my\u001B[0m\u001B[1;33m,\u001B[0m \u001B[0mname\u001B[0m\u001B[1;33m)\u001B[0m\u001B[1;33m\u001B[0m\u001B[1;33m\u001B[0m\u001B[0m\n\u001B[0m",
      "\u001B[1;32mZ:\\Workshop\\Binus\\SEMESTER 6-1\\DSGithub\\datascience_course\\venv\\lib\\site-packages\\tensorflow\\python\\ops\\gen_math_ops.py\u001B[0m in \u001B[0;36m?\u001B[1;34m(x, y, name)\u001B[0m\n\u001B[0;32m  12925\u001B[0m         _ctx, \"Sub\", name, x, y)\n\u001B[0;32m  12926\u001B[0m       \u001B[1;32mreturn\u001B[0m \u001B[0m_result\u001B[0m\u001B[1;33m\u001B[0m\u001B[1;33m\u001B[0m\u001B[0m\n\u001B[0;32m  12927\u001B[0m     \u001B[1;32mexcept\u001B[0m \u001B[0m_core\u001B[0m\u001B[1;33m.\u001B[0m\u001B[0m_NotOkStatusException\u001B[0m \u001B[1;32mas\u001B[0m \u001B[0me\u001B[0m\u001B[1;33m:\u001B[0m\u001B[1;33m\u001B[0m\u001B[1;33m\u001B[0m\u001B[0m\n\u001B[0;32m  12928\u001B[0m       \u001B[0m_ops\u001B[0m\u001B[1;33m.\u001B[0m\u001B[0mraise_from_not_ok_status\u001B[0m\u001B[1;33m(\u001B[0m\u001B[0me\u001B[0m\u001B[1;33m,\u001B[0m \u001B[0mname\u001B[0m\u001B[1;33m)\u001B[0m\u001B[1;33m\u001B[0m\u001B[1;33m\u001B[0m\u001B[0m\n\u001B[1;32m> 12929\u001B[1;33m     \u001B[1;32mexcept\u001B[0m \u001B[0m_core\u001B[0m\u001B[1;33m.\u001B[0m\u001B[0m_FallbackException\u001B[0m\u001B[1;33m:\u001B[0m\u001B[1;33m\u001B[0m\u001B[1;33m\u001B[0m\u001B[0m\n\u001B[0m\u001B[0;32m  12930\u001B[0m       \u001B[1;32mpass\u001B[0m\u001B[1;33m\u001B[0m\u001B[1;33m\u001B[0m\u001B[0m\n\u001B[0;32m  12931\u001B[0m     \u001B[1;32mtry\u001B[0m\u001B[1;33m:\u001B[0m\u001B[1;33m\u001B[0m\u001B[1;33m\u001B[0m\u001B[0m\n\u001B[0;32m  12932\u001B[0m       return sub_eager_fallback(\n",
      "\u001B[1;31mKeyboardInterrupt\u001B[0m: "
     ]
    }
   ],
   "source": [
    "\n",
    "import random\n",
    "import tqdm\n",
    "\n",
    "num_epochs = 10000\n",
    "random.seed(0)\n",
    "\n",
    "guess = [random.random(), random.random()]  # choose random value to start\n",
    "\n",
    "learning_rate = 0.00001\n",
    "\n",
    "with tqdm.trange(num_epochs) as t:\n",
    "  for _ in t:\n",
    "    alpha, beta = guess\n",
    "\n",
    "    # Partial derivative of loss with respect to alpha\n",
    "    grad_a = sum(2 * error(alpha, beta, x_i, y_i)\n",
    "                 for x_i, y_i in zip(avg_visit_duration,\n",
    "                                     revenue))\n",
    "\n",
    "    # Partial derivative of loss with respect to beta\n",
    "    grad_b = sum(2 * error(alpha, beta, x_i, y_i) * x_i\n",
    "                 for x_i, y_i in zip(avg_visit_duration,\n",
    "                                     revenue))\n",
    "\n",
    "    # Original Tensorflow gradient clip\n",
    "    # ClipByValue(\n",
    "    #   const ::tensorflow::Scope & scope,\n",
    "    # ::tensorflow::Input t,\n",
    "    # ::tensorflow::Input clip_value_min,\n",
    "    # ::tensorflow::Input clip_value_max\n",
    "    # )\n",
    "    # https://www.tensorflow.org/api_docs/cc/class/tensorflow/ops/clip-by-value\n",
    "    grad_a = tf.clip_by_value(grad_a, clip_value_min=-2.0, clip_value_max=2.0)\n",
    "    grad_b = tf.clip_by_value(grad_b, clip_value_min=-2.0, clip_value_max=2.0)\n",
    "\n",
    "    # Compute loss to stick in the tqdm description\n",
    "    loss = sum_of_sqerrors(alpha, beta,\n",
    "                           avg_visit_duration, revenue)\n",
    "    t.set_description(f\"loss: {loss:.3f}\")\n",
    "\n",
    "    # Finally, update the guess\n",
    "    guess = gradient_step(guess, [grad_a, grad_b], -learning_rate)\n"
   ]
  },
  {
   "cell_type": "code",
   "execution_count": 22,
   "id": "8d8804af",
   "metadata": {
    "ExecuteTime": {
     "end_time": "2023-08-15T13:14:44.698454200Z",
     "start_time": "2023-08-15T13:14:44.675452300Z"
    }
   },
   "outputs": [
    {
     "data": {
      "text/plain": [
       "<tf.Tensor: shape=(), dtype=float32, numpy=0.8443618>"
      ]
     },
     "execution_count": 22,
     "metadata": {},
     "output_type": "execute_result"
    }
   ],
   "source": [
    "alpha"
   ]
  },
  {
   "cell_type": "code",
   "execution_count": 23,
   "id": "82b490f3",
   "metadata": {
    "ExecuteTime": {
     "end_time": "2023-08-15T13:14:45.164489900Z",
     "start_time": "2023-08-15T13:14:45.139490800Z"
    }
   },
   "outputs": [
    {
     "data": {
      "text/plain": [
       "<tf.Tensor: shape=(), dtype=float32, numpy=0.7580145>"
      ]
     },
     "execution_count": 23,
     "metadata": {},
     "output_type": "execute_result"
    }
   ],
   "source": [
    "beta"
   ]
  },
  {
   "cell_type": "code",
   "execution_count": 24,
   "id": "52f8312b",
   "metadata": {
    "ExecuteTime": {
     "end_time": "2023-08-15T13:14:47.467538100Z",
     "start_time": "2023-08-15T13:14:47.446536100Z"
    }
   },
   "outputs": [
    {
     "data": {
      "text/plain": [
       "[<tf.Tensor: shape=(), dtype=float32, numpy=0.8443618>,\n",
       " <tf.Tensor: shape=(), dtype=float32, numpy=0.7580145>]"
      ]
     },
     "execution_count": 24,
     "metadata": {},
     "output_type": "execute_result"
    }
   ],
   "source": [
    "guess"
   ]
  },
  {
   "cell_type": "code",
   "execution_count": 25,
   "id": "ddf89b81",
   "metadata": {
    "ExecuteTime": {
     "end_time": "2023-08-15T13:14:53.735003900Z",
     "start_time": "2023-08-15T13:14:53.724003100Z"
    }
   },
   "outputs": [],
   "source": [
    "# Test Cuda"
   ]
  },
  {
   "cell_type": "code",
   "execution_count": 26,
   "id": "f0c0a747",
   "metadata": {
    "ExecuteTime": {
     "end_time": "2023-08-15T13:16:15.188845800Z",
     "start_time": "2023-08-15T13:14:55.601389800Z"
    }
   },
   "outputs": [
    {
     "name": "stderr",
     "output_type": "stream",
     "text": [
      "loss: 4642892657.615: 100%|██████████| 10000/10000 [01:19<00:00, 125.66it/s]\n"
     ]
    }
   ],
   "source": []
  },
  {
   "cell_type": "code",
   "execution_count": 4,
   "id": "03128738",
   "metadata": {
    "ExecuteTime": {
     "end_time": "2023-08-15T21:51:24.043917100Z",
     "start_time": "2023-08-15T21:51:24.035917700Z"
    }
   },
   "outputs": [
    {
     "name": "stdout",
     "output_type": "stream",
     "text": [
      "Num GPUs: 0\n",
      "<module 'tensorflow._api.v2.version' from 'Z:\\\\Workshop\\\\Binus\\\\SEMESTER 6-1\\\\DSGithub\\\\datascience_course\\\\venv\\\\lib\\\\site-packages\\\\tensorflow\\\\_api\\\\v2\\\\version\\\\__init__.py'>\n",
      "['/device:CPU:0']\n"
     ]
    }
   ],
   "source": [
    " physical_devices = tf.config.list_physical_devices('GPU')\n",
    "print(\"Num GPUs:\", len(physical_devices))\n",
    "print(tf.version)\n",
    "\n",
    "from tensorflow.python.client import device_lib\n",
    "\n",
    "def get_available_devices():\n",
    "  local_device_protos = device_lib.list_local_devices()\n",
    "  return [x.name for x in local_device_protos]\n",
    "\n",
    "print(get_available_devices())\n",
    "\n",
    "# Note cuDDN not detected?\n",
    "# only showing ['/device:CPU:0']"
   ]
  },
  {
   "cell_type": "code",
   "execution_count": null,
   "id": "f754d18d",
   "metadata": {},
   "outputs": [],
   "source": []
  }
 ],
 "metadata": {
  "kernelspec": {
   "display_name": "Python 3 (ipykernel)",
   "language": "python",
   "name": "python3"
  },
  "language_info": {
   "codemirror_mode": {
    "name": "ipython",
    "version": 3
   },
   "file_extension": ".py",
   "mimetype": "text/x-python",
   "name": "python",
   "nbconvert_exporter": "python",
   "pygments_lexer": "ipython3",
   "version": "3.10.11"
  }
 },
 "nbformat": 4,
 "nbformat_minor": 5
}
